{
  "cells": [
    {
      "cell_type": "code",
      "execution_count": null,
      "metadata": {
        "collapsed": false
      },
      "outputs": [],
      "source": [
        "%matplotlib inline"
      ]
    },
    {
      "cell_type": "markdown",
      "metadata": {},
      "source": [
        "\n# Visualize channel over epochs as an image\n\n\nThis will produce what is sometimes called an event related\npotential / field (ERP/ERF) image.\n\n2 images are produced. One with a good channel and one with a channel\nthat does not see any evoked field.\n\nIt is also demonstrated how to reorder the epochs using a 1d spectral\nembedding as described in:\n\nGraph-based variability estimation in single-trial event-related neural\nresponses A. Gramfort, R. Keriven, M. Clerc, 2010,\nBiomedical Engineering, IEEE Trans. on, vol. 57 (5), 1051-1061\nhttps://hal.inria.fr/inria-00497023\n\n"
      ]
    },
    {
      "cell_type": "code",
      "execution_count": null,
      "metadata": {
        "collapsed": false
      },
      "outputs": [],
      "source": [
        "# Authors: Alexandre Gramfort <alexandre.gramfort@telecom-paristech.fr>\n#\n# License: BSD (3-clause)\n\nimport numpy as np\nimport matplotlib.pyplot as plt\n\nimport mne\nfrom mne import io\nfrom mne.datasets import sample\n\nprint(__doc__)\n\ndata_path = sample.data_path()"
      ]
    },
    {
      "cell_type": "markdown",
      "metadata": {},
      "source": [
        "Set parameters\n\n"
      ]
    },
    {
      "cell_type": "code",
      "execution_count": null,
      "metadata": {
        "collapsed": false
      },
      "outputs": [],
      "source": [
        "raw_fname = data_path + '/MEG/sample/sample_audvis_filt-0-40_raw.fif'\nevent_fname = data_path + '/MEG/sample/sample_audvis_filt-0-40_raw-eve.fif'\nevent_id, tmin, tmax = 1, -0.2, 0.5\n\n# Setup for reading the raw data\nraw = io.read_raw_fif(raw_fname)\nevents = mne.read_events(event_fname)\n\n# Set up pick list: EEG + MEG - bad channels (modify to your needs)\nraw.info['bads'] = ['MEG 2443', 'EEG 053']\npicks = mne.pick_types(raw.info, meg='grad', eeg=False, stim=True, eog=True,\n                       exclude='bads')\n\n# Read epochs\nepochs = mne.Epochs(raw, events, event_id, tmin, tmax, proj=True,\n                    picks=picks, baseline=(None, 0), preload=True,\n                    reject=dict(grad=4000e-13, eog=150e-6))"
      ]
    },
    {
      "cell_type": "markdown",
      "metadata": {},
      "source": [
        "Show event related fields images\n\n"
      ]
    },
    {
      "cell_type": "code",
      "execution_count": null,
      "metadata": {
        "collapsed": false
      },
      "outputs": [],
      "source": [
        "# and order with spectral reordering\n# If you don't have scikit-learn installed set order_func to None\nfrom sklearn.cluster.spectral import spectral_embedding  # noqa\nfrom sklearn.metrics.pairwise import rbf_kernel   # noqa\n\n\ndef order_func(times, data):\n    this_data = data[:, (times > 0.0) & (times < 0.350)]\n    this_data /= np.sqrt(np.sum(this_data ** 2, axis=1))[:, np.newaxis]\n    return np.argsort(spectral_embedding(rbf_kernel(this_data, gamma=1.),\n                      n_components=1, random_state=0).ravel())\n\ngood_pick = 97  # channel with a clear evoked response\nbad_pick = 98  # channel with no evoked response\n\n# We'll also plot a sample time onset for each trial\nplt_times = np.linspace(0, .2, len(epochs))\n\nplt.close('all')\nmne.viz.plot_epochs_image(epochs, [good_pick, bad_pick], sigma=0.5, vmin=-100,\n                          vmax=250, colorbar=True, order=order_func,\n                          overlay_times=plt_times, show=True)"
      ]
    }
  ],
  "metadata": {
    "kernelspec": {
      "display_name": "Python 3",
      "language": "python",
      "name": "python3"
    },
    "language_info": {
      "codemirror_mode": {
        "name": "ipython",
        "version": 3
      },
      "file_extension": ".py",
      "mimetype": "text/x-python",
      "name": "python",
      "nbconvert_exporter": "python",
      "pygments_lexer": "ipython3",
      "version": "3.6.0"
    }
  },
  "nbformat": 4,
  "nbformat_minor": 0
}