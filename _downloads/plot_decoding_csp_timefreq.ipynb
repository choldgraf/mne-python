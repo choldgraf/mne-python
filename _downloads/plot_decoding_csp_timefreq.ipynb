{
  "cells": [
    {
      "cell_type": "code",
      "execution_count": null,
      "metadata": {
        "collapsed": false
      },
      "outputs": [],
      "source": [
        "%matplotlib inline"
      ]
    },
    {
      "cell_type": "markdown",
      "metadata": {},
      "source": [
        "\n============================================================================\nDecoding in time-frequency space data using the Common Spatial Pattern (CSP)\n============================================================================\n\nThe time-frequency decomposition is estimated by iterating over raw data that\nhas been band-passed at different frequencies. This is used to compute a\ncovariance matrix over a rolling time-window and extract the CSP filtered\nsignals. A linear discriminant classifier is then applied to these signals.\n\n"
      ]
    },
    {
      "cell_type": "code",
      "execution_count": null,
      "metadata": {
        "collapsed": false
      },
      "outputs": [],
      "source": [
        "# Authors: Laura Gwilliams <laura.gwilliams@nyu.edu>\n#          Jean-Remi King <jeanremi.king@gmail.com>\n#          Alex Barachant <alexandre.barachant@gmail.com>\n#          Alexandre Gramfort <alexandre.gramfort@telecom-paristech.fr>\n#\n# License: BSD (3-clause)\n\nimport numpy as np\nimport matplotlib.pyplot as plt\n\nfrom mne import Epochs, find_events, create_info\nfrom mne.io import concatenate_raws, read_raw_edf\nfrom mne.datasets import eegbci\nfrom mne.decoding import CSP\nfrom mne.time_frequency import AverageTFR\n\nfrom sklearn.discriminant_analysis import LinearDiscriminantAnalysis\nfrom sklearn.model_selection import KFold, cross_val_score\nfrom sklearn.pipeline import make_pipeline"
      ]
    },
    {
      "cell_type": "markdown",
      "metadata": {},
      "source": [
        "Set parameters and read data\n\n"
      ]
    },
    {
      "cell_type": "code",
      "execution_count": null,
      "metadata": {
        "collapsed": false
      },
      "outputs": [],
      "source": [
        "event_id = dict(hands=2, feet=3)  # motor imagery: hands vs feet\nsubject = 1\nruns = [6, 10, 14]\nraw_fnames = eegbci.load_data(subject, runs)\nraw_files = [read_raw_edf(f, preload=True) for f in raw_fnames]\nraw = concatenate_raws(raw_files)\n\n# Extract information from the raw file\nsfreq = raw.info['sfreq']\nevents = find_events(raw, shortest_event=0, stim_channel='STI 014')\nraw.pick_types(meg=False, eeg=True, stim=False, eog=False, exclude='bads')\n\n# Assemble the classifier using scikit-learn pipeline\nclf = make_pipeline(CSP(n_components=4, reg=None, log=True),\n                    LinearDiscriminantAnalysis())\nn_splits = 5  # how many folds to use for cross-validation\ncv = KFold(n_splits=n_splits, shuffle=True)\n\n# Classification & Time-frequency parameters\ntmin, tmax = -.200, 2.000\nn_cycles = 10.  # how many complete cycles: used to define window size\nmin_freq = 5.\nmax_freq = 25.\nn_freqs = 8  # how many frequency bins to use\n\n# Assemble list of frequency range tuples\nfreqs = np.linspace(min_freq, max_freq, n_freqs)  # assemble frequencies\nfreq_ranges = zip(freqs[:-1], freqs[1:])  # make freqs into a list of tuples\n\n# Infer window spacing from the max freq and number of cycles to avoid gaps\nwindow_spacing = (n_cycles / np.max(freqs) / 2.)\ncentered_w_times = np.arange(tmin, tmax, window_spacing)[1:]\nn_windows = len(centered_w_times)"
      ]
    },
    {
      "cell_type": "markdown",
      "metadata": {},
      "source": [
        "Loop through frequencies and time, apply classifier and save scores\n\n"
      ]
    },
    {
      "cell_type": "code",
      "execution_count": null,
      "metadata": {
        "collapsed": false
      },
      "outputs": [],
      "source": [
        "# init scores\nscores = np.zeros((n_freqs - 1, n_windows))\n\n# Loop through each frequency range of interest\nfor freq, (fmin, fmax) in enumerate(freq_ranges):\n\n    # Infer window size based on the frequency being used\n    w_size = n_cycles / ((fmax + fmin) / 2.)  # in seconds\n\n    # Apply band-pass filter to isolate the specified frequencies\n    raw_filter = raw.copy().filter(fmin, fmax, n_jobs=1, fir_design='firwin')\n\n    # Extract epochs from filtered data, padded by window size\n    epochs = Epochs(raw_filter, events, event_id, tmin - w_size, tmax + w_size,\n                    proj=False, baseline=None, preload=True)\n    epochs.drop_bad()\n    y = epochs.events[:, 2] - 2\n\n    # Roll covariance, csp and lda over time\n    for t, w_time in enumerate(centered_w_times):\n\n        # Center the min and max of the window\n        w_tmin = w_time - w_size / 2.\n        w_tmax = w_time + w_size / 2.\n\n        # Crop data into time-window of interest\n        X = epochs.copy().crop(w_tmin, w_tmax).get_data()\n\n        # Save mean scores over folds for each frequency and time window\n        scores[freq, t] = np.mean(cross_val_score(estimator=clf, X=X, y=y,\n                                                  cv=cv, n_jobs=1), axis=0)"
      ]
    },
    {
      "cell_type": "markdown",
      "metadata": {},
      "source": [
        "Plot results\n\n"
      ]
    },
    {
      "cell_type": "code",
      "execution_count": null,
      "metadata": {
        "collapsed": false
      },
      "outputs": [],
      "source": [
        "# Set up time frequency object\nav_tfr = AverageTFR(create_info(['freq'], sfreq), scores[np.newaxis, :],\n                    centered_w_times, freqs[1:], 1)\n\nchance = np.mean(y)  # set chance level to white in the plot\nav_tfr.plot([0], vmin=chance, title=\"Time-Frequency Decoding Scores\",\n            cmap=plt.cm.Reds)"
      ]
    }
  ],
  "metadata": {
    "kernelspec": {
      "display_name": "Python 3",
      "language": "python",
      "name": "python3"
    },
    "language_info": {
      "codemirror_mode": {
        "name": "ipython",
        "version": 3
      },
      "file_extension": ".py",
      "mimetype": "text/x-python",
      "name": "python",
      "nbconvert_exporter": "python",
      "pygments_lexer": "ipython3",
      "version": "3.6.0"
    }
  },
  "nbformat": 4,
  "nbformat_minor": 0
}