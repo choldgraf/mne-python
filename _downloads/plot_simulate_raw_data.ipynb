{
  "cells": [
    {
      "cell_type": "code",
      "execution_count": null,
      "metadata": {
        "collapsed": false
      },
      "outputs": [],
      "source": [
        "%matplotlib inline"
      ]
    },
    {
      "cell_type": "markdown",
      "metadata": {},
      "source": [
        "\n# Generate simulated raw data\n\n\nThis example generates raw data by repeating a desired source\nactivation multiple times.\n\n\n"
      ]
    },
    {
      "cell_type": "code",
      "execution_count": null,
      "metadata": {
        "collapsed": false
      },
      "outputs": [],
      "source": [
        "# Authors: Yousra Bekhti <yousra.bekhti@gmail.com>\n#          Mark Wronkiewicz <wronk.mark@gmail.com>\n#          Eric Larson <larson.eric.d@gmail.com>\n#\n# License: BSD (3-clause)\n\nimport numpy as np\nimport matplotlib.pyplot as plt\n\nimport mne\nfrom mne import read_source_spaces, find_events, Epochs, compute_covariance\nfrom mne.datasets import sample\nfrom mne.simulation import simulate_sparse_stc, simulate_raw\n\nprint(__doc__)\n\ndata_path = sample.data_path()\nraw_fname = data_path + '/MEG/sample/sample_audvis_raw.fif'\ntrans_fname = data_path + '/MEG/sample/sample_audvis_raw-trans.fif'\nsrc_fname = data_path + '/subjects/sample/bem/sample-oct-6-src.fif'\nbem_fname = (data_path +\n             '/subjects/sample/bem/sample-5120-5120-5120-bem-sol.fif')\n\n# Load real data as the template\nraw = mne.io.read_raw_fif(raw_fname)\nraw = raw.crop(0., 30.)  # 30 sec is enough"
      ]
    },
    {
      "cell_type": "markdown",
      "metadata": {},
      "source": [
        "Generate dipole time series\n\n"
      ]
    },
    {
      "cell_type": "code",
      "execution_count": null,
      "metadata": {
        "collapsed": false
      },
      "outputs": [],
      "source": [
        "n_dipoles = 4  # number of dipoles to create\nepoch_duration = 2.  # duration of each epoch/event\nn = 0  # harmonic number\n\n\ndef data_fun(times):\n    \"\"\"Generate time-staggered sinusoids at harmonics of 10Hz\"\"\"\n    global n\n    n_samp = len(times)\n    window = np.zeros(n_samp)\n    start, stop = [int(ii * float(n_samp) / (2 * n_dipoles))\n                   for ii in (2 * n, 2 * n + 1)]\n    window[start:stop] = 1.\n    n += 1\n    data = 25e-9 * np.sin(2. * np.pi * 10. * n * times)\n    data *= window\n    return data\n\ntimes = raw.times[:int(raw.info['sfreq'] * epoch_duration)]\nsrc = read_source_spaces(src_fname)\nstc = simulate_sparse_stc(src, n_dipoles=n_dipoles, times=times,\n                          data_fun=data_fun, random_state=0)\n# look at our source data\nfig, ax = plt.subplots(1)\nax.plot(times, 1e9 * stc.data.T)\nax.set(ylabel='Amplitude (nAm)', xlabel='Time (sec)')\nfig.show()"
      ]
    },
    {
      "cell_type": "markdown",
      "metadata": {},
      "source": [
        "Simulate raw data\n\n"
      ]
    },
    {
      "cell_type": "code",
      "execution_count": null,
      "metadata": {
        "collapsed": false
      },
      "outputs": [],
      "source": [
        "raw_sim = simulate_raw(raw, stc, trans_fname, src, bem_fname, cov='simple',\n                       iir_filter=[0.2, -0.2, 0.04], ecg=True, blink=True,\n                       n_jobs=1, verbose=True)\nraw_sim.plot()"
      ]
    },
    {
      "cell_type": "markdown",
      "metadata": {},
      "source": [
        "Plot evoked data\n\n"
      ]
    },
    {
      "cell_type": "code",
      "execution_count": null,
      "metadata": {
        "collapsed": false
      },
      "outputs": [],
      "source": [
        "events = find_events(raw_sim)  # only 1 pos, so event number == 1\nepochs = Epochs(raw_sim, events, 1, -0.2, epoch_duration)\ncov = compute_covariance(epochs, tmax=0., method='empirical')  # quick calc\nevoked = epochs.average()\nevoked.plot_white(cov)"
      ]
    }
  ],
  "metadata": {
    "kernelspec": {
      "display_name": "Python 3",
      "language": "python",
      "name": "python3"
    },
    "language_info": {
      "codemirror_mode": {
        "name": "ipython",
        "version": 3
      },
      "file_extension": ".py",
      "mimetype": "text/x-python",
      "name": "python",
      "nbconvert_exporter": "python",
      "pygments_lexer": "ipython3",
      "version": "3.6.0"
    }
  },
  "nbformat": 4,
  "nbformat_minor": 0
}