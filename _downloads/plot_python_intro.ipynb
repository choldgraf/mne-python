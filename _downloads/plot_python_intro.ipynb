{
  "cells": [
    {
      "cell_type": "code",
      "execution_count": null,
      "metadata": {
        "collapsed": false
      },
      "outputs": [],
      "source": [
        "%matplotlib inline"
      ]
    },
    {
      "cell_type": "markdown",
      "metadata": {},
      "source": [
        "\n\nIntroduction to Python\n======================\n\n"
      ]
    },
    {
      "cell_type": "markdown",
      "metadata": {},
      "source": [
        "Python is a modern, general-purpose, object-oriented, high-level programming\nlanguage. First make sure you have a working python environment and\ndependencies (see `install_python_and_mne_python`). If you are\ncompletely new to python, don't worry, it's just like any other programming\nlanguage, only easier. Here are a few great resources to get you started:\n\n* `SciPy lectures <http://scipy-lectures.github.io>`_\n* `Learn X in Y minutes: Python <https://learnxinyminutes.com/docs/python/>`_\n* `NumPy for MATLAB users <https://docs.scipy.org/doc/numpy-dev/user/numpy-for-matlab-users.html>`_  # noqa\n\nWe highly recommend watching the Scipy videos and reading through these\nsites to get a sense of how scientific computing is done in Python.\n\nHere are few bulletin points to familiarise yourself with python:\n\nEverything is dynamically typed. No need to declare simple data\nstructures or variables separately.\n\n"
      ]
    },
    {
      "cell_type": "code",
      "execution_count": null,
      "metadata": {
        "collapsed": false
      },
      "outputs": [],
      "source": [
        "a = 3\nprint(type(a))\nb = [1, 2.5, 'This is a string']\nprint(type(b))\nc = 'Hello world!'\nprint(type(c))"
      ]
    },
    {
      "cell_type": "markdown",
      "metadata": {},
      "source": [
        "If you come from a background of matlab, remember that indexing in python\nstarts from zero:\n\n"
      ]
    },
    {
      "cell_type": "code",
      "execution_count": null,
      "metadata": {
        "collapsed": false
      },
      "outputs": [],
      "source": [
        "a = [1, 2, 3, 4]\nprint('This is the zeroth value in the list: {}'.format(a[0]))"
      ]
    },
    {
      "cell_type": "markdown",
      "metadata": {},
      "source": [
        "No need to reinvent the wheel. Scipy and Numpy are battle field tested\nlibraries that have a vast variety of functions for your needs. Consult the\ndocumentation and remember, you can always ask the interpreter for help with\na question mark at the end of a function::\n\n   >>> import numpy as np\n   >>> np.arange?\n\n"
      ]
    }
  ],
  "metadata": {
    "kernelspec": {
      "display_name": "Python 3",
      "language": "python",
      "name": "python3"
    },
    "language_info": {
      "codemirror_mode": {
        "name": "ipython",
        "version": 3
      },
      "file_extension": ".py",
      "mimetype": "text/x-python",
      "name": "python",
      "nbconvert_exporter": "python",
      "pygments_lexer": "ipython3",
      "version": "3.6.0"
    }
  },
  "nbformat": 4,
  "nbformat_minor": 0
}