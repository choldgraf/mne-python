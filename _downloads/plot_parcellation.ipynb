{
  "cells": [
    {
      "cell_type": "code",
      "execution_count": null,
      "metadata": {
        "collapsed": false
      },
      "outputs": [],
      "source": [
        "%matplotlib inline"
      ]
    },
    {
      "cell_type": "markdown",
      "metadata": {},
      "source": [
        "\n# Plot a cortical parcellation\n\n\nIn this example, we download the HCP-MMP1.0 parcellation [1]_ and show it\non fsaverage.\n\n<div class=\"alert alert-info\"><h4>Note</h4><p>The HCP-MMP dataset has license terms restricting its use.\n          Of particular relevance:\n\n              \"I will acknowledge the use of WU-Minn HCP data and data\n              derived from WU-Minn HCP data when publicly presenting any\n              results or algorithms that benefitted from their use.\"</p></div>\n\nReferences\n----------\n.. [1] Glasser MF et al. (2016) A multi-modal parcellation of human\n       cerebral cortex. Nature 536:171-178.\n\n"
      ]
    },
    {
      "cell_type": "code",
      "execution_count": null,
      "metadata": {
        "collapsed": false
      },
      "outputs": [],
      "source": [
        "# Author: Eric Larson <larson.eric.d@gmail.com>\n#\n# License: BSD (3-clause)\n\nfrom surfer import Brain\n\nimport mne\n\nsubjects_dir = mne.datasets.sample.data_path() + '/subjects'\nmne.datasets.fetch_hcp_mmp_parcellation(subjects_dir=subjects_dir,\n                                        verbose=True)\nlabels = mne.read_labels_from_annot(\n    'fsaverage', 'HCPMMP1', 'lh', subjects_dir=subjects_dir)\n\nbrain = Brain('fsaverage', 'lh', 'inflated', subjects_dir=subjects_dir,\n              cortex='low_contrast', background='white', size=(800, 600))\nbrain.add_annotation('HCPMMP1')\naud_label = [label for label in labels if label.name == 'L_A1_ROI-lh'][0]\nbrain.add_label(aud_label, borders=False)"
      ]
    }
  ],
  "metadata": {
    "kernelspec": {
      "display_name": "Python 3",
      "language": "python",
      "name": "python3"
    },
    "language_info": {
      "codemirror_mode": {
        "name": "ipython",
        "version": 3
      },
      "file_extension": ".py",
      "mimetype": "text/x-python",
      "name": "python",
      "nbconvert_exporter": "python",
      "pygments_lexer": "ipython3",
      "version": "3.6.0"
    }
  },
  "nbformat": 4,
  "nbformat_minor": 0
}