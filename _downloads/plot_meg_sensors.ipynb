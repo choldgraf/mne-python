{
  "cells": [
    {
      "cell_type": "code",
      "execution_count": null,
      "metadata": {
        "collapsed": false
      },
      "outputs": [],
      "source": [
        "%matplotlib inline"
      ]
    },
    {
      "cell_type": "markdown",
      "metadata": {},
      "source": [
        "\n# Plotting sensor layouts of MEG systems\n\n\nIn this example, sensor layouts of different MEG systems\nare shown.\n\n"
      ]
    },
    {
      "cell_type": "code",
      "execution_count": null,
      "metadata": {
        "collapsed": false
      },
      "outputs": [],
      "source": [
        "# Author: Eric Larson <larson.eric.d@gmail.com>\n#\n# License: BSD (3-clause)\n\nimport os.path as op\n\nfrom mayavi import mlab\n\nimport mne\nfrom mne.io import read_raw_fif, read_raw_ctf, read_raw_bti, read_raw_kit\nfrom mne.io import read_raw_artemis123\nfrom mne.datasets import sample, spm_face, testing\nfrom mne.viz import plot_trans\n\nprint(__doc__)\n\nbti_path = op.abspath(op.dirname(mne.__file__)) + '/io/bti/tests/data/'\nkit_path = op.abspath(op.dirname(mne.__file__)) + '/io/kit/tests/data/'\nraws = dict(\n    Neuromag=read_raw_fif(sample.data_path() +\n                          '/MEG/sample/sample_audvis_raw.fif'),\n    CTF_275=read_raw_ctf(spm_face.data_path() +\n                         '/MEG/spm/SPM_CTF_MEG_example_faces1_3D.ds'),\n    Magnes_3600wh=read_raw_bti(op.join(bti_path, 'test_pdf_linux'),\n                               op.join(bti_path, 'test_config_linux'),\n                               op.join(bti_path, 'test_hs_linux')),\n    KIT=read_raw_kit(op.join(kit_path, 'test.sqd')),\n    Artemis123=read_raw_artemis123(op.join(\n        testing.data_path(), 'ARTEMIS123',\n        'Artemis_Data_2017-04-14-10h-38m-59s_Phantom_1k_HPI_1s.bin'))\n)\n\nfor system, raw in raws.items():\n    # We don't have coil definitions for KIT refs, so exclude them\n    ref_meg = False if system == 'KIT' else True\n    fig = plot_trans(raw.info, trans=None, dig=False, eeg_sensors=False,\n                     meg_sensors=True, coord_frame='meg', ref_meg=ref_meg)\n    text = mlab.title(system)\n    text.x_position = 0.5\n    text.y_position = 0.95\n    text.property.vertical_justification = 'top'\n    text.property.justification = 'center'\n    text.actor.text_scale_mode = 'none'\n    text.property.bold = True\n    mlab.draw(fig)"
      ]
    }
  ],
  "metadata": {
    "kernelspec": {
      "display_name": "Python 3",
      "language": "python",
      "name": "python3"
    },
    "language_info": {
      "codemirror_mode": {
        "name": "ipython",
        "version": 3
      },
      "file_extension": ".py",
      "mimetype": "text/x-python",
      "name": "python",
      "nbconvert_exporter": "python",
      "pygments_lexer": "ipython3",
      "version": "3.6.0"
    }
  },
  "nbformat": 4,
  "nbformat_minor": 0
}