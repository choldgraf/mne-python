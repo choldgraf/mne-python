{
  "cells": [
    {
      "cell_type": "code",
      "execution_count": null,
      "metadata": {
        "collapsed": false
      },
      "outputs": [],
      "source": [
        "%matplotlib inline"
      ]
    },
    {
      "cell_type": "markdown",
      "metadata": {},
      "source": [
        "\n# Reading BEM surfaces from a forward solution\n\n\nPlot BEM surfaces used for forward solution generation.\n\n"
      ]
    },
    {
      "cell_type": "code",
      "execution_count": null,
      "metadata": {
        "collapsed": false
      },
      "outputs": [],
      "source": [
        "# Author: Jaakko Leppakangas <jaeilepp@gmail.com>\n#\n# License: BSD (3-clause)\nimport os.path as op\nfrom mayavi import mlab\n\nimport mne\nfrom mne.datasets.sample import data_path\n\nprint(__doc__)\n\ndata_path = data_path()\nfname = op.join(data_path, 'MEG', 'sample', 'sample_audvis_raw.fif')\nraw = mne.io.read_raw_fif(fname)\nsubjects_dir = op.join(data_path, 'subjects')"
      ]
    },
    {
      "cell_type": "markdown",
      "metadata": {},
      "source": [
        "Here we use :func:`mne.viz.plot_trans` with ``trans=None`` to plot only the\nsurfaces without any transformations. For plotting transformation, see\n`tut_forward`.\n\n"
      ]
    },
    {
      "cell_type": "code",
      "execution_count": null,
      "metadata": {
        "collapsed": false
      },
      "outputs": [],
      "source": [
        "mne.viz.plot_trans(raw.info, trans=None, subject='sample',\n                   subjects_dir=subjects_dir, meg_sensors=[], eeg_sensors=[],\n                   head='outer_skin', skull=['inner_skull', 'outer_skull'])\nmlab.view(40, 60)"
      ]
    }
  ],
  "metadata": {
    "kernelspec": {
      "display_name": "Python 3",
      "language": "python",
      "name": "python3"
    },
    "language_info": {
      "codemirror_mode": {
        "name": "ipython",
        "version": 3
      },
      "file_extension": ".py",
      "mimetype": "text/x-python",
      "name": "python",
      "nbconvert_exporter": "python",
      "pygments_lexer": "ipython3",
      "version": "3.6.0"
    }
  },
  "nbformat": 4,
  "nbformat_minor": 0
}